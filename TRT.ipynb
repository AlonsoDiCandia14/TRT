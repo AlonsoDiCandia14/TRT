{
 "cells": [
  {
   "cell_type": "markdown",
   "metadata": {},
   "source": [
    "# Grafos"
   ]
  },
  {
   "cell_type": "code",
   "execution_count": 136,
   "metadata": {},
   "outputs": [],
   "source": [
    "import numpy as np\n",
    "import networkx as nx\n",
    "import matplotlib.pyplot as plt"
   ]
  },
  {
   "cell_type": "code",
   "execution_count": 137,
   "metadata": {},
   "outputs": [],
   "source": [
    "def createEdges(edges, directflag):\n",
    "    newEdges = []\n",
    "    for e in edges:\n",
    "        newEdges.append((e[0],e[1],.5))\n",
    "        if directflag == 1: newEdges.append((e[1],e[0],.5))\n",
    "    return newEdges\n",
    "def createGraph(lowerEdge, upperEdge, edges):\n",
    "    Gr = nx.DiGraph()\n",
    "    Gr.add_nodes_from(range(lowerEdge,upperEdge))\n",
    "    Gr.add_weighted_edges_from(edges)\n",
    "    plt.figure(1)\n",
    "    plt.title(\"Figure 1\")\n",
    "    nx.draw(Gr, with_labels = True)\n",
    "    return Gr"
   ]
  },
  {
   "cell_type": "code",
   "execution_count": 142,
   "metadata": {
    "scrolled": true
   },
   "outputs": [
    {
     "data": {
      "image/png": "[encoded data removed]",
      "text/plain": [
       "<Figure size 432x288 with 1 Axes>"
      ]
     },
     "metadata": {},
     "output_type": "display_data"
    }
   ],
   "source": [
    "#Creamos el grafo, en este caso, no direccionado. En caso de ser direccionado, añadir TODOS los vertices a la variable\n",
    "#edges y cambiar direcflag = 1\n",
    "directflag = 1\n",
    "num_nodes = 7\n",
    "edges = [(1,3),(1,4),(1,5),(2,3),(2,7),(3,4),(3,5),(3,7),(4,6),(5,6),(6,7)]\n",
    "len_edges = len(edges)\n",
    "edges_grph = createEdges(edges, directflag)\n",
    "edges_grph.sort()\n",
    "G = createGraph(1,num_nodes+1,edges_grph) "
   ]
  },
  {
   "cell_type": "markdown",
   "metadata": {},
   "source": [
    "# Distancia\n",
    "\n",
    "Definimos la distancia entre dos vertices $v_1$ y $v_2$ de G, que denotamos como $d_G(v_1,v_2)$, se define como el largo de la trayectoria mas corta que conecta los vertices $v_1$ y $v_2$, si no existe, entonces $d_G(v_1,v_2)=\\infty$\n",
    "\n",
    "## Ejemplo:\n",
    "Si deseamos calcular $d_G(6,2)$ dado el grafo de la Figura 1 tenemos que buscar todas las rutas desde 6 a 2 y quedarnos con la mas corta.\n",
    "\n",
    "#### Calculo de trayectorias:\n",
    "\n",
    "-  $d_G(6,2) = (6,4), (4,1), (1,3), (3,2) =  4$\n",
    "-  $d_G(6,2) = (6,5), (5,3), (3,2) = 3$\n",
    "-  $d_G(6,2) = (6,7), (7,2) = 2$\n",
    "\n",
    "Por lo que la trayectoria escogida es la ultima, dado que es la mas corta. $d_G(6,2) = 2$"
   ]
  },
  {
   "cell_type": "code",
   "execution_count": 143,
   "metadata": {},
   "outputs": [
    {
     "name": "stdout",
     "output_type": "stream",
     "text": [
      "2\n"
     ]
    }
   ],
   "source": [
    "#Calculo de distancia para un solo vertice\n",
    "#El primer valor es el grafo definido arriba, luego el v1 y finalmente el v2\n",
    "n = nx.shortest_path_length(G,3,6)\n",
    "print(n)"
   ]
  },
  {
   "cell_type": "code",
   "execution_count": 144,
   "metadata": {},
   "outputs": [
    {
     "name": "stdout",
     "output_type": "stream",
     "text": [
      "LA DISTANCIA DE  6  y  1 ES  2\n",
      "LA DISTANCIA DE  6  y  2 ES  2\n",
      "LA DISTANCIA DE  6  y  3 ES  2\n",
      "LA DISTANCIA DE  6  y  4 ES  1\n",
      "LA DISTANCIA DE  6  y  5 ES  1\n",
      "LA DISTANCIA DE  6  y  7 ES  1\n"
     ]
    }
   ],
   "source": [
    "#Calculo de TODAS las distancias de un nodo.\n",
    "def distancia(v1, G):\n",
    "    for v2 in range(1,8):\n",
    "        if v1 == v2:\n",
    "            continue\n",
    "        distancia = nx.shortest_path_length(G,v1,v2)\n",
    "        print(\"LA DISTANCIA DE \", v1, \" y \", v2, \"ES \", distancia)\n",
    "distancia(6,G)"
   ]
  },
  {
   "cell_type": "markdown",
   "metadata": {},
   "source": [
    "# Excentricidad\n",
    "\n",
    "La excentricidad del vertice $v_1$ es la maxima distancia entre $v_1$  y $v_2 \\in V$ con $v_1 \\neq v_2$, la denotamos como $e_G$.\n",
    "\n",
    "## Ejemplo:\n",
    "Determinar $e_G(3)$.\n",
    "\n",
    "#### Calculo de distancias $d_G(3,n)$, con $n \\in {1,2,4,5,6,7}$\n",
    "\n",
    "- $d_G(3,1) = 1$\n",
    "- $d_G(3,2) = 1$\n",
    "- $d_G(3,4) = 1$\n",
    "- $d_G(3,5) = 1$\n",
    "- $d_G(3,6) = 2$\n",
    "- $d_G(3,7) = 1$\n",
    "\n",
    "Dado que debemos escoger la distancia maxima, el valor de $e_G(3) = 2$. "
   ]
  },
  {
   "cell_type": "code",
   "execution_count": 145,
   "metadata": {},
   "outputs": [
    {
     "name": "stdout",
     "output_type": "stream",
     "text": [
      "LA EXCENTRICIDAD  DE  1  ES  2\n",
      "LA EXCENTRICIDAD  DE  2  ES  2\n",
      "LA EXCENTRICIDAD  DE  3  ES  2\n",
      "LA EXCENTRICIDAD  DE  4  ES  2\n",
      "LA EXCENTRICIDAD  DE  5  ES  2\n",
      "LA EXCENTRICIDAD  DE  6  ES  2\n",
      "LA EXCENTRICIDAD  DE  7  ES  2\n"
     ]
    }
   ],
   "source": [
    "def excentricidad(G):\n",
    "    excentricidadList = []\n",
    "    for v1 in range(1,8):\n",
    "        aux = []\n",
    "        for i in range(1,8):\n",
    "            if i == v1:\n",
    "                continue\n",
    "            e = nx.shortest_path_length(G,v1,i)\n",
    "            aux.append(e)\n",
    "        print(\"LA EXCENTRICIDAD \", \"DE \", v1, \" ES \",np.max(np.asarray(aux)))\n",
    "        excentricidadList.append(np.max(np.asarray(aux)))\n",
    "    return excentricidadList\n",
    "excentricidad = excentricidad(G) #ejecutamos la funcion"
   ]
  },
  {
   "cell_type": "markdown",
   "metadata": {},
   "source": [
    "# Diametro y radio\n",
    "\n",
    "Se define el diametro como la mayor distancia entre cualquier par de vertices, es decir, el mayor valor de las excentricidades. Para obtener el valor del diametro debemos calcular el valor de todas las excentricidad, lo que supone calcular el valor de todas las distancias y quedarnos con la de mayor valor."
   ]
  },
  {
   "cell_type": "code",
   "execution_count": 146,
   "metadata": {},
   "outputs": [
    {
     "name": "stdout",
     "output_type": "stream",
     "text": [
      "2\n"
     ]
    }
   ],
   "source": [
    "#Calculo diametro\n",
    "diametro = np.max(excentricidad)\n",
    "print(diametro)"
   ]
  },
  {
   "cell_type": "markdown",
   "metadata": {},
   "source": [
    "En contraparte, el radio es la menor de las excentricidades."
   ]
  },
  {
   "cell_type": "code",
   "execution_count": 147,
   "metadata": {},
   "outputs": [
    {
     "name": "stdout",
     "output_type": "stream",
     "text": [
      "2\n"
     ]
    }
   ],
   "source": [
    "#Calculo radio\n",
    "radio = np.min(excentricidad)\n",
    "print(radio)"
   ]
  },
  {
   "cell_type": "markdown",
   "metadata": {},
   "source": [
    "# Matriz de adyacencia"
   ]
  },
  {
   "cell_type": "code",
   "execution_count": 148,
   "metadata": {},
   "outputs": [],
   "source": [
    "def createMatriz(edges_grphs):\n",
    "    edges = edges_grph \n",
    "    aux1 = edges[-1][1]\n",
    "    aux2 = edges[-1][0]\n",
    "    if aux1 > aux2:\n",
    "        shape = aux1\n",
    "    else:\n",
    "        shape = aux2\n",
    "    matrix = np.zeros((shape+1,shape+1))\n",
    "    for e in edges:\n",
    "        matrix[e[0],e[1]] = 1\n",
    "    return matrix[1:,1:].astype('int')"
   ]
  },
  {
   "cell_type": "code",
   "execution_count": 149,
   "metadata": {},
   "outputs": [
    {
     "name": "stdout",
     "output_type": "stream",
     "text": [
      "[[0 0 1 1 1 0 0]\n",
      " [0 0 1 0 0 0 1]\n",
      " [1 1 0 1 1 0 1]\n",
      " [1 0 1 0 0 1 0]\n",
      " [1 0 1 0 0 1 0]\n",
      " [0 0 0 1 1 0 1]\n",
      " [0 1 1 0 0 1 0]]\n"
     ]
    }
   ],
   "source": [
    "A_G = createMatriz(edges_grph)\n",
    "print(matrix)"
   ]
  },
  {
   "cell_type": "markdown",
   "metadata": {},
   "source": [
    "# Matriz de incidencia\n",
    "\n",
    "La matriz de incidencia es una matriz binaria, denotado por B(G), donde $B(G) = (b_{i,j})$.\n",
    "\n",
    "Los valores los toma siguiendo el siguiente criterio:\n",
    "- $b_{i,j} = 1$, si $i \\in e_j$\n",
    "- $b_{i,j} = 0$, si $i \\notin e_j$\n",
    "\n",
    "Donde $e_j \\in E$, es decir teniendo los vertices de nuestro grafo el valor $e_1 = (1,3)$, es decir que el valor $b_{1,1} = 1$ dado que $i = 1$ e $i$ esta presente en el vertice $e_1 = (1,3)$.\n",
    "\n",
    "$e_1 = (1,3)$, entonces, $b_{2,1} = 0$, dado que $i = 2$ e $i$ $\\bf no$ esta presente en el vertice $e_1 = (1,3)$.\n",
    "\n",
    "$e_7 = (3,5)$, entonces, $b_{5,7} = 1$, dado que $i = 5$ e $i$ esta presente en el vertice $e_7 = (3,5)$.\n",
    "\n",
    "$e_7 = (3,5)$, entonces, $b_{4,7} = 0$, dado que $i = 4$ e $i$ $\\bf no$ esta presente en el vertice $e_7 = (3,5)$."
   ]
  },
  {
   "cell_type": "code",
   "execution_count": 150,
   "metadata": {},
   "outputs": [
    {
     "name": "stdout",
     "output_type": "stream",
     "text": [
      "[[1 1 1 0 0 0 0 0 0 0 0]\n",
      " [0 0 0 1 1 0 0 0 0 0 0]\n",
      " [1 0 0 1 0 1 1 1 0 0 0]\n",
      " [0 1 0 0 0 1 0 0 1 0 0]\n",
      " [0 0 1 0 0 0 1 0 0 1 0]\n",
      " [0 0 0 0 0 0 0 0 1 1 1]\n",
      " [0 0 0 0 1 0 0 1 0 0 1]]\n"
     ]
    }
   ],
   "source": [
    "B_G = np.zeros((num_nodes,len_edges)).astype('int')\n",
    "for j,e in enumerate(edges):\n",
    "    for i in range(0,7):\n",
    "        if i+1 in e:\n",
    "            B_G[i,j] = 1\n",
    "print(B_G)"
   ]
  },
  {
   "cell_type": "code",
   "execution_count": null,
   "metadata": {},
   "outputs": [],
   "source": []
  },
  {
   "cell_type": "code",
   "execution_count": null,
   "metadata": {},
   "outputs": [],
   "source": []
  },
  {
   "cell_type": "code",
   "execution_count": null,
   "metadata": {},
   "outputs": [],
   "source": []
  }
 ],
 "metadata": {
  "kernelspec": {
   "display_name": "Python 3",
   "language": "python",
   "name": "python3"
  },
  "language_info": {
   "codemirror_mode": {
    "name": "ipython",
    "version": 3
   },
   "file_extension": ".py",
   "mimetype": "text/x-python",
   "name": "python",
   "nbconvert_exporter": "python",
   "pygments_lexer": "ipython3",
   "version": "3.6.8"
  }
 },
 "nbformat": 4,
 "nbformat_minor": 2
}
